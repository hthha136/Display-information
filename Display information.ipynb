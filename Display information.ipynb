{
 "cells": [
  {
   "cell_type": "code",
   "execution_count": 1,
   "id": "bdf0fa2f",
   "metadata": {},
   "outputs": [
    {
     "name": "stdout",
     "output_type": "stream",
     "text": [
      "Hoang Thi Hai Ha - 13/08 - Binh Duong - tim kiem co hoi viec lam moi\n"
     ]
    }
   ],
   "source": [
    "print('Hoang Thi Hai Ha - 13/08 - Binh Duong - tim kiem co hoi viec lam moi')"
   ]
  },
  {
   "cell_type": "code",
   "execution_count": null,
   "id": "22719877",
   "metadata": {},
   "outputs": [],
   "source": []
  }
 ],
 "metadata": {
  "kernelspec": {
   "display_name": "Python 3 (ipykernel)",
   "language": "python",
   "name": "python3"
  },
  "language_info": {
   "codemirror_mode": {
    "name": "ipython",
    "version": 3
   },
   "file_extension": ".py",
   "mimetype": "text/x-python",
   "name": "python",
   "nbconvert_exporter": "python",
   "pygments_lexer": "ipython3",
   "version": "3.9.12"
  }
 },
 "nbformat": 4,
 "nbformat_minor": 5
}
